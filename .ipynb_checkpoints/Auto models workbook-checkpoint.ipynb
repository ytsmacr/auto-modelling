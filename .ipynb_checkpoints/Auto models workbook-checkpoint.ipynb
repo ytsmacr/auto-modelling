{
 "cells": [
  {
   "cell_type": "markdown",
   "id": "48c9f479",
   "metadata": {},
   "source": [
    "Input should be spectra of duplicates, able to be grouped by Sample_Name column."
   ]
  },
  {
   "cell_type": "code",
   "execution_count": 1,
   "id": "abc68a1f",
   "metadata": {},
   "outputs": [
    {
     "name": "stdout",
     "output_type": "stream",
     "text": [
      "Folder path containing data: C:\\Users\\ytsma22c\\Documents\\GitHub\\auto-modelling\\test_data\n",
      "Spectra filename: train_spectra\n",
      "Metadata filename: train_meta\n",
      "Folder path to export results: C:\\Users\\ytsma22c\\Documents\\GitHub\\auto-modelling\\test_results\n"
     ]
    }
   ],
   "source": [
    "import pandas as pd\n",
    "import numpy as np\n",
    "from statistics import median, mean\n",
    "from matplotlib import pyplot as plt\n",
    "\n",
    "from model_tools import *\n",
    "\n",
    "'''\n",
    "by Cai Ytsma (cai@caiconsulting.co.uk)\n",
    "Last updated 26 September 2022\n",
    "\n",
    "This program calculates the overall sensitivity of a \n",
    "dataset by calculating the standard deviation within\n",
    "intensity values of duplicate spectra per channel\n",
    "and averaging those values per sample.\n",
    "\n",
    "User decides whether to use median or mean sensitivity.\n",
    "\n",
    "Overall and individual sensitivities are exported\n",
    "in `sensitivity_results.csv`\n",
    "'''\n",
    "\n",
    "#-------------------#\n",
    "# INPUT INFORMATION #\n",
    "#-------------------#\n",
    "data_folder, all_files = get_data_folder()\n",
    "spectra_path = get_spectra_path(data_folder, all_files)\n",
    "meta_path = get_meta_path(data_folder, all_files)\n",
    "outpath = get_out_folder()\n",
    "\n",
    "# import\n",
    "spectra = pd.read_csv(spectra_path)\n",
    "meta = pd.read_csv(meta_path)\n",
    "\n",
    "# check data in same order\n",
    "check = set(spectra.columns[1:]) == set(meta['pkey'].values)\n",
    "if not check:\n",
    "    raise ValueError('Spectra and metadata pkeys must be identical')\n",
    "    \n",
    "if 'Sample_Name' not in meta.columns:\n",
    "    raise ValueError('Must have column \"Sample_Name\" to group duplicate spectra by')"
   ]
  },
  {
   "cell_type": "markdown",
   "id": "d64ef5d1",
   "metadata": {},
   "source": [
    "# remove bad (boundary) channels before calculating sensitivity?\n",
    "\n",
    "### step 1\n",
    "- Get average intensity per channel, per sample\n",
    "- Divide stdev of each channel by the average intensity to get relative uncertainty\n",
    "- do this for all samples and get average relative uncertainty per channel\n",
    "- identify those channels with a relative uncertainty above a certain threshold, export and explore\n",
    "\n",
    "### step 2\n",
    "- remove channels with rel uncert above the threshold from the sensitivity calculation\n",
    "\n",
    "**REMOVE THESE CHANNELS FROM THE DATASET ENTIRELY??**\n",
    "\n",
    "- calculate and compare mean and median sensitivity, choose and use"
   ]
  },
  {
   "cell_type": "code",
   "execution_count": 9,
   "id": "cacfe11f",
   "metadata": {},
   "outputs": [
    {
     "name": "stdout",
     "output_type": "stream",
     "text": [
      "What percentile should the upper threshold cutoff be?90\n"
     ]
    },
    {
     "data": {
      "image/png": "[encoded data removed]",
      "text/plain": [
       "<Figure size 432x288 with 1 Axes>"
      ]
     },
     "metadata": {
      "needs_background": "light"
     },
     "output_type": "display_data"
    }
   ],
   "source": [
    "## step 1\n",
    "percent = int(input('What percentile should the upper threshold cutoff be? '))\n",
    "\n",
    "rel_stdev_list = []\n",
    "\n",
    "for sample in meta.Sample_Name.unique():\n",
    "    pkey_list = meta[meta.Sample_Name == sample]['pkey'].values\n",
    "    \n",
    "    # skip if no duplicate spectra\n",
    "    if len(pkey_list) < 2:\n",
    "        continue\n",
    "        \n",
    "    dup_spectra = spectra[pkey_list]\n",
    "    avg_intensity = spectra[pkey_list].mean(axis=1)\n",
    "    all_stdev = dup_spectra.std(axis=1)\n",
    "    rel_stdev = abs(all_stdev / avg_intensity).replace(np.inf, np.nan)\n",
    "    \n",
    "    rel_stdev_list.append(rel_stdev)\n",
    "    \n",
    "# cumulate\n",
    "avg_channel_rel_stdev = pd.DataFrame(rel_stdev_list).mean(axis=0)\n",
    "# upper threshold = 90th percentile\n",
    "upper_threshold = np.percentile(avg_channel_rel_stdev, percent)\n",
    "\n",
    "channel_df = pd.DataFrame({\n",
    "  'wave':spectra['wave'],\n",
    "  'avg_rel_stdev':avg_channel_rel_stdev\n",
    "})\n",
    "\n",
    "# median and mean of those below\n",
    "channel_df_below_thresh = channel_df[channel_df.avg_rel_stdev<=upper_threshold]\n",
    "median_rel = median(channel_df_below_thresh.avg_rel_stdev)\n",
    "mean_rel = mean(channel_df_below_thresh.avg_rel_stdev)\n",
    "\n",
    "# histogram\n",
    "channel_df_over_thresh = channel_df[channel_df.avg_rel_stdev>upper_threshold]\n",
    "n_bad = len(channel_df_over_thresh)\n",
    "n_all = len(channel_df)\n",
    "title = f'{n_bad} channels have a relative uncertainty > {round(upper_threshold,2)} ({percent}th percentile)'\n",
    "\n",
    "med_c = 'red'\n",
    "mean_c = 'blue'\n",
    "\n",
    "plt.hist(channel_df_below_thresh.avg_rel_stdev, bins=20)\n",
    "plt.title(title, fontsize=10)\n",
    "plt.ylabel(\"# Channels\")\n",
    "plt.xlabel(\"Relative Uncertainty\")\n",
    "y_bot, y_top = plt.ylim()\n",
    "plt.vlines(x=median_rel,\n",
    "           ymin = 0,\n",
    "           ymax = y_top,\n",
    "           colors=med_c,\n",
    "           label=f'median = {round(median_rel,2)}')\n",
    "plt.vlines(x=mean_rel,\n",
    "           ymin = 0,\n",
    "           ymax = y_top,\n",
    "           colors=mean_c,\n",
    "           label=f'mean = {round(mean_rel,2)}')\n",
    "plt.ylim((0,y_top))\n",
    "plt.legend()\n",
    "# save plot\n",
    "plt.tight_layout()\n",
    "plt.savefig(f\"{outpath}\\\\relative_uncertainty_channel_comparison.jpg\", dpi=600)\n",
    "plt.savefig(f\"{outpath}\\\\relative_uncertainty_channel_comparison.eps\", dpi=600)\n",
    "plt.show()"
   ]
  },
  {
   "cell_type": "code",
   "execution_count": 22,
   "id": "31751308",
   "metadata": {},
   "outputs": [
    {
     "data": {
      "image/png": "[encoded data removed]",
      "text/plain": [
       "<Figure size 432x288 with 1 Axes>"
      ]
     },
     "metadata": {
      "needs_background": "light"
     },
     "output_type": "display_data"
    }
   ],
   "source": [
    "# identify channels in spectra with bad channels\n",
    "bad_channels = channel_df_over_thresh['wave'].values\n",
    "\n",
    "# example spectrum\n",
    "plt.plot(spectra['wave'], spectra[spectra.columns[1]], color='grey')\n",
    "y_bot, y_top = plt.ylim()\n",
    "plt.vlines(x=bad_channels,\n",
    "           ymin = 0,\n",
    "           ymax = y_top,\n",
    "           colors='red',\n",
    "           alpha=0.3)\n",
    "plt.ylim((0,y_top))\n",
    "plt.show()"
   ]
  },
  {
   "cell_type": "code",
   "execution_count": 18,
   "id": "ca9aea5f",
   "metadata": {},
   "outputs": [
    {
     "data": {
      "image/png": "[encoded data removed]",
      "text/plain": [
       "<Figure size 432x288 with 1 Axes>"
      ]
     },
     "metadata": {
      "needs_background": "light"
     },
     "output_type": "display_data"
    }
   ],
   "source": [
    "# remove those above threshold\n",
    "clean_spectra = spectra[~spectra['wave'].isin(bad_channels)]\n",
    "\n",
    "# get sensitivity per sample\n",
    "sens_list = []\n",
    "sample_list = []\n",
    "n_dup_list = []\n",
    "\n",
    "for sample in meta.Sample_Name.unique():\n",
    "    pkey_list = meta[meta.Sample_Name == sample]['pkey'].values\n",
    "    \n",
    "    # skip if no duplicate spectra\n",
    "    if len(pkey_list) < 2:\n",
    "        continue\n",
    "        \n",
    "    dup_spectra = clean_spectra[pkey_list]\n",
    "    avg_stdev = dup_spectra.std(axis=1).mean()\n",
    "    \n",
    "    sample_list.append(sample)\n",
    "    sens_list.append(avg_stdev)\n",
    "    n_dup_list.append(len(pkey_list))\n",
    "\n",
    "sample_df = pd.DataFrame({\n",
    "    'Sample_Name':sample_list,\n",
    "    '# Duplicates':n_dup_list,\n",
    "    'Sensitivity':sens_list\n",
    "}).sort_values('Sample_Name')\n",
    "\n",
    "# median and mean\n",
    "median_sens = median(sens_list)\n",
    "mean_sens = mean(sens_list)\n",
    "\n",
    "# histogram\n",
    "plt.hist(sens_list, bins=20)\n",
    "plt.ylabel(\"# Standards\")\n",
    "plt.xlabel(\"Sensitivity\")\n",
    "y_bot, y_top = plt.ylim()\n",
    "plt.vlines(x=median_sens,\n",
    "           ymin = 0,\n",
    "           ymax = y_top,\n",
    "           colors=med_c,\n",
    "           label='median')\n",
    "plt.vlines(x=mean_sens,\n",
    "           ymin = 0,\n",
    "           ymax = y_top,\n",
    "           colors=mean_c,\n",
    "           label='mean')\n",
    "plt.legend()\n",
    "plt.ylim((0,y_top))\n",
    "plt.ticklabel_format(axis='x', style='sci', scilimits=(-2,2))\n",
    "plt.title(f'Only using channels with relative uncertainties below {percent}th percentile', fontsize=10)\n",
    "# save plot\n",
    "plt.tight_layout()\n",
    "plt.savefig(f\"{outpath}\\\\sensitivity_sample_comparison.jpg\", dpi=600)\n",
    "plt.savefig(f\"{outpath}\\\\sensitivity_sample_comparison.eps\", dpi=600)\n",
    "# show plot\n",
    "plt.show(block=False)"
   ]
  }
 ],
 "metadata": {
  "kernelspec": {
   "display_name": "Python 3 (ipykernel)",
   "language": "python",
   "name": "python3"
  },
  "language_info": {
   "codemirror_mode": {
    "name": "ipython",
    "version": 3
   },
   "file_extension": ".py",
   "mimetype": "text/x-python",
   "name": "python",
   "nbconvert_exporter": "python",
   "pygments_lexer": "ipython3",
   "version": "3.8.13"
  }
 },
 "nbformat": 4,
 "nbformat_minor": 5
}
