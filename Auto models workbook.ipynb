{
 "cells": [
  {
   "cell_type": "code",
   "execution_count": 1,
   "id": "bca0a2d7",
   "metadata": {},
   "outputs": [],
   "source": [
    "import pandas as pd\n",
    "from model_tools import Preprocess\n",
    "import os\n",
    "from tqdm.notebook import tqdm"
   ]
  },
  {
   "cell_type": "code",
   "execution_count": 2,
   "id": "be079603",
   "metadata": {},
   "outputs": [
    {
     "data": {
      "application/json": {
       "ascii": false,
       "bar_format": null,
       "colour": null,
       "elapsed": 0.014987707138061523,
       "initial": 0,
       "n": 0,
       "ncols": null,
       "nrows": 29,
       "postfix": null,
       "prefix": "",
       "rate": null,
       "total": 4,
       "unit": "it",
       "unit_divisor": 1000,
       "unit_scale": false
      },
      "application/vnd.jupyter.widget-view+json": {
       "model_id": "735a325ae5cd42ffb32c7976b2327ef0",
       "version_major": 2,
       "version_minor": 0
      },
      "text/plain": [
       "  0%|          | 0/4 [00:00<?, ?it/s]"
      ]
     },
     "metadata": {},
     "output_type": "display_data"
    }
   ],
   "source": [
    "# convert 18K to 10K axis\n",
    "axis_10K = pd.read_csv('P:\\\\DATASETS\\\\10K\\\\final_datasets\\\\10K_spectra_EARTH_9mJ.csv', usecols=[0])\n",
    "\n",
    "folder = 'P:\\\\DATASETS\\\\18K\\\\final_datasets'\n",
    "outfolder = 'P:\\\\DATASETS\\\\18K\\\\final_datasets\\\\10K axis_AirPLS_norm3\\\\'\n",
    "file_list = [f for f in os.listdir(folder) if 'spectra' in f]\n",
    "for file in tqdm(file_list):\n",
    "    spectra = pd.read_csv(f'{folder}\\\\{file}')\n",
    "    \n",
    "    spectra_resampled = Preprocess.resample_to_match(spectra, axis_10K)\n",
    "    \n",
    "    # BLR\n",
    "    spectra_blr = Preprocess.AirPLS(spectra_resampled)\n",
    "\n",
    "    # norm5\n",
    "    spectra_norm = Preprocess.norm3_SL_10K(spectra_blr)\n",
    "    spectra_norm.to_csv(f'{outfolder}\\\\{file[:-4]}_formatted.csv', index=False)"
   ]
  },
  {
   "cell_type": "code",
   "execution_count": 6,
   "id": "ad18521e",
   "metadata": {},
   "outputs": [
    {
     "data": {
      "application/json": {
       "ascii": false,
       "bar_format": null,
       "colour": null,
       "elapsed": 0.013989448547363281,
       "initial": 0,
       "n": 0,
       "ncols": null,
       "nrows": 29,
       "postfix": null,
       "prefix": "",
       "rate": null,
       "total": 16,
       "unit": "it",
       "unit_divisor": 1000,
       "unit_scale": false
      },
      "application/vnd.jupyter.widget-view+json": {
       "model_id": "3e4bcedc8c3c40e0b76278a5c124a8ec",
       "version_major": 2,
       "version_minor": 0
      },
      "text/plain": [
       "  0%|          | 0/16 [00:00<?, ?it/s]"
      ]
     },
     "metadata": {},
     "output_type": "display_data"
    },
    {
     "name": "stdout",
     "output_type": "stream",
     "text": [
      "Resampling to SuperCam -2px shifted wavelength axis by default\n",
      "Resampling to SuperCam -2px shifted wavelength axis by default\n",
      "Resampling to SuperCam -2px shifted wavelength axis by default\n",
      "Resampling to SuperCam -2px shifted wavelength axis by default\n",
      "Resampling to SuperCam -2px shifted wavelength axis by default\n",
      "Resampling to SuperCam -2px shifted wavelength axis by default\n",
      "Resampling to SuperCam -2px shifted wavelength axis by default\n",
      "Resampling to SuperCam -2px shifted wavelength axis by default\n",
      "Resampling to SuperCam -2px shifted wavelength axis by default\n",
      "Resampling to SuperCam -2px shifted wavelength axis by default\n",
      "Resampling to SuperCam -2px shifted wavelength axis by default\n",
      "Resampling to SuperCam -2px shifted wavelength axis by default\n",
      "Resampling to SuperCam -2px shifted wavelength axis by default\n",
      "Resampling to SuperCam -2px shifted wavelength axis by default\n",
      "Resampling to SuperCam -2px shifted wavelength axis by default\n",
      "Resampling to SuperCam -2px shifted wavelength axis by default\n"
     ]
    },
    {
     "data": {
      "application/json": {
       "ascii": false,
       "bar_format": null,
       "colour": null,
       "elapsed": 0.026930570602416992,
       "initial": 0,
       "n": 0,
       "ncols": null,
       "nrows": 29,
       "postfix": null,
       "prefix": "",
       "rate": null,
       "total": 4,
       "unit": "it",
       "unit_divisor": 1000,
       "unit_scale": false
      },
      "application/vnd.jupyter.widget-view+json": {
       "model_id": "35d27af4272743489138c4aa989a74c1",
       "version_major": 2,
       "version_minor": 0
      },
      "text/plain": [
       "  0%|          | 0/4 [00:00<?, ?it/s]"
      ]
     },
     "metadata": {},
     "output_type": "display_data"
    },
    {
     "name": "stdout",
     "output_type": "stream",
     "text": [
      "Resampling to SuperCam -2px shifted wavelength axis by default\n",
      "Resampling to SuperCam -2px shifted wavelength axis by default\n",
      "Resampling to SuperCam -2px shifted wavelength axis by default\n",
      "Resampling to SuperCam -2px shifted wavelength axis by default\n"
     ]
    }
   ],
   "source": [
    "inst_list = ['10K','18K']\n",
    "\n",
    "for inst in inst_list:\n",
    "    folder = f'P:\\\\DATASETS\\\\{inst}\\\\final_datasets'\n",
    "    outfolder = f'{folder}\\\\SC axis_AirPLS_norm5'\n",
    "\n",
    "    spec_files = [f for f in os.listdir(folder) if 'spectra' in f]\n",
    "\n",
    "    for file in tqdm(spec_files):\n",
    "        df = pd.read_csv(f'{folder}\\\\{file}')\n",
    "\n",
    "        # resample to SC\n",
    "        df_resampled = Preprocess.resample_to_match(df)\n",
    "\n",
    "        # not going to resample to min step first\n",
    "        # BLR\n",
    "        df_blr = Preprocess.AirPLS(df_resampled)\n",
    "\n",
    "        # norm5\n",
    "        df_norm = Preprocess.norm5_SC(df_blr)\n",
    "\n",
    "        df_norm.to_csv(f'{outfolder}\\\\{file[:-4]}_formatted.csv', index=False)"
   ]
  }
 ],
 "metadata": {
  "kernelspec": {
   "display_name": "Python 3 (ipykernel)",
   "language": "python",
   "name": "python3"
  },
  "language_info": {
   "codemirror_mode": {
    "name": "ipython",
    "version": 3
   },
   "file_extension": ".py",
   "mimetype": "text/x-python",
   "name": "python",
   "nbconvert_exporter": "python",
   "pygments_lexer": "ipython3",
   "version": "3.8.13"
  }
 },
 "nbformat": 4,
 "nbformat_minor": 5
}
