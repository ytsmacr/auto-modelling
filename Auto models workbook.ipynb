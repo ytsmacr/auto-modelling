{
 "cells": [
  {
   "cell_type": "markdown",
   "id": "6660677d",
   "metadata": {},
   "source": [
    "Input should be spectra of duplicates, able to be grouped by Sample_Name column."
   ]
  },
  {
   "cell_type": "code",
   "execution_count": 1,
   "id": "ed47b7f1",
   "metadata": {},
   "outputs": [
    {
     "name": "stdout",
     "output_type": "stream",
     "text": [
      "Folder path containing data: C:\\Users\\ytsma22c\\Documents\\GitHub\\auto-modelling\\test_data\n",
      "Spectra filename: train_spectra\n",
      "Metadata filename: train_meta\n",
      "Folder path to export results: C:\\Users\\ytsma22c\\Documents\\GitHub\\auto-modelling\\test_results\n"
     ]
    }
   ],
   "source": [
    "import pandas as pd\n",
    "import numpy as np\n",
    "from statistics import median, mean\n",
    "from matplotlib import pyplot as plt\n",
    "\n",
    "from model_tools import *\n",
    "\n",
    "'''\n",
    "by Cai Ytsma (cai@caiconsulting.co.uk)\n",
    "Last updated 27 September 2022\n",
    "\n",
    "This program calculates the overall sensitivity of a \n",
    "dataset by calculating the standard deviation within\n",
    "intensity values of duplicate spectra per channel and\n",
    "averaging those values per sample (grouped by 'Sample_Name' column).\n",
    "\n",
    "User decides whether to use median or mean sensitivity.\n",
    "\n",
    "Overall and individual sensitivities are exported\n",
    "in `sensitivity_results.csv`\n",
    "\n",
    "It also calculates the relative uncertainty at each\n",
    "channel and identifies those above a user-defined\n",
    "upper percentile threshold. Average relative\n",
    "uncertainty per channel, and a plot identifying\n",
    "those channels above the threshold are exported.\n",
    "'''\n",
    "\n",
    "#-------------------#\n",
    "# INPUT INFORMATION #\n",
    "#-------------------#\n",
    "data_folder, all_files = get_data_folder()\n",
    "spectra_path = get_spectra_path(data_folder, all_files)\n",
    "meta_path = get_meta_path(data_folder, all_files)\n",
    "outpath = get_out_folder()\n",
    "\n",
    "# import\n",
    "spectra = pd.read_csv(spectra_path)\n",
    "meta = pd.read_csv(meta_path)\n",
    "\n",
    "# check data in same order\n",
    "check = set(spectra.columns[1:]) == set(meta['pkey'].values)\n",
    "if not check:\n",
    "    raise ValueError('Spectra and metadata pkeys must be identical')\n",
    "    \n",
    "if 'Sample_Name' not in meta.columns:\n",
    "    raise ValueError('Must have column \"Sample_Name\" to group duplicate spectra by')"
   ]
  },
  {
   "cell_type": "code",
   "execution_count": 4,
   "id": "6033d7b3",
   "metadata": {},
   "outputs": [
    {
     "name": "stdout",
     "output_type": "stream",
     "text": [
      "Calculating relative uncertainty per channel\n",
      "What should the upper percentile threshold be, for identifying channels with large relative uncertainty? 90\n"
     ]
    },
    {
     "data": {
      "image/png": "[encoded data removed]",
      "text/plain": [
       "<Figure size 432x288 with 1 Axes>"
      ]
     },
     "metadata": {
      "needs_background": "light"
     },
     "output_type": "display_data"
    }
   ],
   "source": [
    "## step 1\n",
    "print('Calculating relative uncertainty per channel')\n",
    "rel_stdev_list = []\n",
    "\n",
    "for sample in meta.Sample_Name.unique():\n",
    "    pkey_list = meta[meta.Sample_Name == sample]['pkey'].values\n",
    "    \n",
    "    # skip if no duplicate spectra\n",
    "    if len(pkey_list) < 2:\n",
    "        continue\n",
    "        \n",
    "    dup_spectra = spectra[pkey_list]\n",
    "    avg_intensity = spectra[pkey_list].mean(axis=1)\n",
    "    all_stdev = dup_spectra.std(axis=1)\n",
    "    rel_stdev = abs(all_stdev / avg_intensity).replace(np.inf, np.nan)\n",
    "    \n",
    "    rel_stdev_list.append(rel_stdev)\n",
    "\n",
    "avg_channel_rel_stdev = pd.DataFrame(rel_stdev_list).mean(axis=0)\n",
    "\n",
    "# calculate threshold value\n",
    "percent = int(input('What should the upper percentile threshold be, for identifying channels with large relative uncertainty? '))\n",
    "upper_threshold = np.percentile(avg_channel_rel_stdev, percent)\n",
    "\n",
    "# cumulate\n",
    "channel_df = pd.DataFrame({\n",
    "  'wave':spectra['wave'],\n",
    "  'avg_rel_stdev':avg_channel_rel_stdev\n",
    "})\n",
    "channel_df[f'below_{percent}th_percentile'] = ['yes' if f <= upper_threshold else 'no' for f in channel_df['avg_rel_stdev']]\n",
    "# export\n",
    "channel_df.to_csv(f'{outpath}\\\\average_relative_channel_uncertainty.csv', index=False)\n",
    "\n",
    "# median and mean of those below\n",
    "channel_df_below_thresh = channel_df[channel_df.avg_rel_stdev<=upper_threshold]\n",
    "median_rel = median(channel_df_below_thresh.avg_rel_stdev)\n",
    "mean_rel = mean(channel_df_below_thresh.avg_rel_stdev)\n",
    "\n",
    "# histogram\n",
    "channel_df_over_thresh = channel_df[channel_df.avg_rel_stdev>upper_threshold]\n",
    "n_bad = len(channel_df_over_thresh)\n",
    "n_all = len(channel_df)\n",
    "title = f'{n_bad} channels have a relative uncertainty > {round(upper_threshold,2)} ({percent}th percentile)'\n",
    "\n",
    "med_c = 'red'\n",
    "mean_c = 'blue'\n",
    "\n",
    "plt.hist(channel_df_below_thresh.avg_rel_stdev, bins=20)\n",
    "plt.title(title, fontsize=10)\n",
    "plt.ylabel(\"# Channels\")\n",
    "plt.xlabel(\"Relative Uncertainty\")\n",
    "y_bot, y_top = plt.ylim()\n",
    "plt.vlines(x=median_rel,\n",
    "           ymin = 0,\n",
    "           ymax = y_top,\n",
    "           colors=med_c,\n",
    "           label=f'median = {round(median_rel,2)}')\n",
    "plt.vlines(x=mean_rel,\n",
    "           ymin = 0,\n",
    "           ymax = y_top,\n",
    "           colors=mean_c,\n",
    "           label=f'mean = {round(mean_rel,2)}')\n",
    "plt.ylim((0,y_top))\n",
    "plt.legend()\n",
    "# save plot\n",
    "plt.tight_layout()\n",
    "plt.savefig(f\"{outpath}\\\\relative_uncertainty_channel_comparison.jpg\", dpi=600)\n",
    "plt.savefig(f\"{outpath}\\\\relative_uncertainty_channel_comparison.eps\", dpi=600)\n",
    "plt.close()"
   ]
  },
  {
   "cell_type": "code",
   "execution_count": 5,
   "id": "0770a9bf",
   "metadata": {},
   "outputs": [],
   "source": [
    "# identify channels in spectra with bad channels\n",
    "bad_channels = channel_df_over_thresh['wave'].values\n",
    "\n",
    "# example spectrum\n",
    "plt.figure(figsize=(12,6))\n",
    "plt.plot(spectra['wave'], spectra[spectra.columns[1]], color='black', linewidth=1)\n",
    "y_bot, y_top = plt.ylim()\n",
    "plt.vlines(x=bad_channels,\n",
    "           ymin = 0,\n",
    "           ymax = y_top,\n",
    "           colors='red',\n",
    "           linewidth=0.5,\n",
    "           alpha=0.3)\n",
    "plt.ylim((0,y_top))\n",
    "plt.ylabel('Intensity')\n",
    "plt.xlabel('Wave')\n",
    "plt.title(f'Channels with relative uncertainties over {round(upper_threshold,2)} ({percent}th percentile)')\n",
    "plt.tight_layout()\n",
    "plt.savefig(f\"{outpath}\\\\high_rel_uncertainty_channels_plot.jpg\", dpi=600)\n",
    "plt.savefig(f\"{outpath}\\\\high_rel_uncertainty_channels_plot.eps\", dpi=600)\n",
    "plt.close()"
   ]
  },
  {
   "cell_type": "code",
   "execution_count": 6,
   "id": "3df00e50",
   "metadata": {},
   "outputs": [
    {
     "name": "stdout",
     "output_type": "stream",
     "text": [
      "Calculating overall sensitivity\n"
     ]
    },
    {
     "data": {
      "image/png": "[encoded data removed]",
      "text/plain": [
       "<Figure size 432x288 with 1 Axes>"
      ]
     },
     "metadata": {
      "needs_background": "light"
     },
     "output_type": "display_data"
    }
   ],
   "source": [
    "## DONT remove those above threshold because all used for training\n",
    "#clean_spectra = spectra[~spectra['wave'].isin(bad_channels)]\n",
    "\n",
    "print('Calculating overall sensitivity')\n",
    "# get sensitivity per sample\n",
    "sens_list = []\n",
    "sample_list = []\n",
    "n_dup_list = []\n",
    "\n",
    "for sample in meta.Sample_Name.unique():\n",
    "    pkey_list = meta[meta.Sample_Name == sample]['pkey'].values\n",
    "    \n",
    "    # skip if no duplicate spectra\n",
    "    if len(pkey_list) < 2:\n",
    "        continue\n",
    "        \n",
    "    dup_spectra = spectra[pkey_list]\n",
    "    avg_stdev = dup_spectra.std(axis=1).mean()\n",
    "    \n",
    "    sample_list.append(sample)\n",
    "    sens_list.append(avg_stdev)\n",
    "    n_dup_list.append(len(pkey_list))\n",
    "\n",
    "sample_df = pd.DataFrame({\n",
    "    'Sample_Name':sample_list,\n",
    "    '# Duplicates':n_dup_list,\n",
    "    'Sensitivity':sens_list\n",
    "}).sort_values('Sample_Name')\n",
    "\n",
    "# median and mean\n",
    "median_sens = median(sens_list)\n",
    "mean_sens = mean(sens_list)\n",
    "\n",
    "# histogram\n",
    "plt.hist(sens_list, bins=20)\n",
    "plt.ylabel(\"# Standards\")\n",
    "plt.xlabel(\"Sensitivity\")\n",
    "y_bot, y_top = plt.ylim()\n",
    "plt.vlines(x=median_sens,\n",
    "           ymin = 0,\n",
    "           ymax = y_top,\n",
    "           colors=med_c,\n",
    "           label='median')\n",
    "plt.vlines(x=mean_sens,\n",
    "           ymin = 0,\n",
    "           ymax = y_top,\n",
    "           colors=mean_c,\n",
    "           label='mean')\n",
    "plt.legend()\n",
    "plt.ylim((0,y_top))\n",
    "plt.ticklabel_format(axis='x', style='sci', scilimits=(-2,2))\n",
    "#plt.title(f'Only using channels with relative uncertainties below {percent}th percentile', fontsize=10)\n",
    "# save plot\n",
    "plt.tight_layout()\n",
    "plt.savefig(f\"{outpath}\\\\sensitivity_sample_comparison.jpg\", dpi=600)\n",
    "plt.savefig(f\"{outpath}\\\\sensitivity_sample_comparison.eps\", dpi=600)\n",
    "# show plot\n",
    "plt.show(block=False)"
   ]
  },
  {
   "cell_type": "code",
   "execution_count": 7,
   "id": "0ae5268d",
   "metadata": {},
   "outputs": [
    {
     "name": "stdout",
     "output_type": "stream",
     "text": [
      "Use [1] median or [2] mean sensitivity? 1\n",
      "Chosen sensitivity is 3.3827294142211984e-05\n",
      "Results exported\n"
     ]
    }
   ],
   "source": [
    "# choose which value to use\n",
    "sens_prompt = \"Use [1] median or [2] mean sensitivity? \"\n",
    "sens_choice = int(input(sens_prompt))\n",
    "while sens_choice not in [1,2]:\n",
    "    print(\"Error: input must be either 1 or 2\")\n",
    "    sens_choice = int(input(sens_prompt))\n",
    "    \n",
    "sensitivity = median_sens if sens_choice == 1 else mean_sens\n",
    "\n",
    "# close figure\n",
    "plt.close()\n",
    "\n",
    "print('Chosen sensitivity is', sensitivity)\n",
    "\n",
    "#---------#\n",
    "# RESULTS #\n",
    "#---------#\n",
    "\n",
    "sens_info = f'''*Sensitivity Information*\n",
    "\n",
    "Median sensitivity:,{median_sens}\n",
    "Mean sensitivity:,{mean_sens}\n",
    "Chosen value:,{'median' if sens_choice == 1 else 'mean'}\n",
    "\n",
    "'''\n",
    "# export\n",
    "filename = f\"{outpath}\\\\sensitivity_results.csv\"\n",
    "with open(filename, 'w', newline='\\n') as file:\n",
    "    file.write(sens_info)\n",
    "# append variable info\n",
    "with open(filename, 'a', newline='\\n') as file:\n",
    "    sample_df.to_csv(file, index=False)\n",
    "    \n",
    "print('Results exported')"
   ]
  }
 ],
 "metadata": {
  "kernelspec": {
   "display_name": "Python 3 (ipykernel)",
   "language": "python",
   "name": "python3"
  },
  "language_info": {
   "codemirror_mode": {
    "name": "ipython",
    "version": 3
   },
   "file_extension": ".py",
   "mimetype": "text/x-python",
   "name": "python",
   "nbconvert_exporter": "python",
   "pygments_lexer": "ipython3",
   "version": "3.8.13"
  }
 },
 "nbformat": 4,
 "nbformat_minor": 5
}
